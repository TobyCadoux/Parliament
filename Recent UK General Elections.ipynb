{
 "cells": [
  {
   "cell_type": "markdown",
   "metadata": {
    "toc": true
   },
   "source": [
    "<h1>Table of Contents<span class=\"tocSkip\"></span></h1>\n",
    "<div class=\"toc\"><ul class=\"toc-item\"><li><span><a href=\"#UK-Parliamentary-elections\" data-toc-modified-id=\"UK-Parliamentary-elections-1\"><span class=\"toc-item-num\">1&nbsp;&nbsp;</span>UK Parliamentary elections</a></span></li><li><span><a href=\"#How-many-seats-change-hands-from-one-election-to-the-next\" data-toc-modified-id=\"How-many-seats-change-hands-from-one-election-to-the-next-2\"><span class=\"toc-item-num\">2&nbsp;&nbsp;</span>How many seats change hands from one election to the next</a></span><ul class=\"toc-item\"><li><span><a href=\"#2010-2017-results\" data-toc-modified-id=\"2010-2017-results-2.1\"><span class=\"toc-item-num\">2.1&nbsp;&nbsp;</span>2010-2017 results</a></span></li><li><span><a href=\"#Next-steps\" data-toc-modified-id=\"Next-steps-2.2\"><span class=\"toc-item-num\">2.2&nbsp;&nbsp;</span>Next steps</a></span></li><li><span><a href=\"#Update\" data-toc-modified-id=\"Update-2.3\"><span class=\"toc-item-num\">2.3&nbsp;&nbsp;</span>Update</a></span></li></ul></li><li><span><a href=\"#Turnout\" data-toc-modified-id=\"Turnout-3\"><span class=\"toc-item-num\">3&nbsp;&nbsp;</span>Turnout</a></span></li></ul></div>"
   ]
  },
  {
   "cell_type": "markdown",
   "metadata": {},
   "source": [
    "## UK Parliamentary elections"
   ]
  },
  {
   "cell_type": "markdown",
   "metadata": {},
   "source": [
    "The data I am using is the results of elections to the Westminster Parliament.  I start by cutting down the original data set which has all results since 1918.  Unfortunately the constituencies have changed over time and the last boundary change finished in 2010.\n",
    "The metadata, in Word format, is [here](http://researchbriefings.files.parliament.uk/documents/CBP-8647/CBP-8647.docx).\n",
    "Initial questions to consider are:\n",
    "* Which which areas have long-time incumbent parties?  Which are more variable?\n",
    "* How have the major parties fared overall over time?\n",
    "* Are there differences over time in different consituencies or regions/countries?\n",
    "* Can we extend region comparisons to trends since 1918 or 1945?\n",
    "* What effect on regions did boundary changes have?\n",
    "* Ireland became a republic in 1922.  Are the obvious reflections of this in the 1918 election?\n",
    "* It is widely reported that turnout is falling.  Is this true everywhere?\n",
    "* Where are the sharpest changes in turnout?  Where is most stable?\n",
    "\n",
    "A summary and relevant links can be found [here](https://researchbriefings.parliament.uk/ResearchBriefing/Summary/CBP-8647)."
   ]
  },
  {
   "cell_type": "markdown",
   "metadata": {},
   "source": [
    "**Supplementary note**\n",
    "I have suspended work on this until the 2010-2019 results are released.  It seems like a poor use of time to undertake analysis until then."
   ]
  },
  {
   "cell_type": "code",
   "execution_count": 1,
   "metadata": {},
   "outputs": [],
   "source": [
    "# Ignore all warnings (including deprecation of datetime)\n",
    "import warnings\n",
    "warnings.filterwarnings(\"ignore\")\n",
    "\n",
    "# I will likely need these at some point.\n",
    "import numpy as np\n",
    "import pandas as pd\n",
    "import matplotlib as mpl\n",
    "import matplotlib.pyplot as plt\n",
    "import seaborn as sb\n",
    "import sklearn as sk\n",
    "import statsmodels.api as sm\n",
    "import datetime\n",
    "import time"
   ]
  },
  {
   "cell_type": "code",
   "execution_count": 2,
   "metadata": {},
   "outputs": [],
   "source": [
    "#url = 'http://researchbriefings.files.parliament.uk/documents/CBP-8647/1918-2017election_results.csv'\n",
    "# This no longer exists now the new results files are out.  I have a local copy\n",
    "url = '1918-2017election_results.csv'\n",
    "df = pd.read_csv(url)\n",
    "r, c = df.shape"
   ]
  },
  {
   "cell_type": "code",
   "execution_count": 3,
   "metadata": {},
   "outputs": [
    {
     "name": "stdout",
     "output_type": "stream",
     "text": [
      "['1918-1935' '1945' '1950-1951' '1955-1970' '1974-1979' '1983-1992'\n",
      " '1997-2001' '2005' '2010-2017']\n"
     ]
    }
   ],
   "source": [
    "print(df['boundary_set'].unique())"
   ]
  },
  {
   "cell_type": "markdown",
   "metadata": {},
   "source": [
    "A few columns have trailing spaces in the column name.\n",
    "This needs to be fixed!"
   ]
  },
  {
   "cell_type": "code",
   "execution_count": 4,
   "metadata": {},
   "outputs": [],
   "source": [
    "df.columns = [x.rstrip() for x in df.columns]"
   ]
  },
  {
   "cell_type": "markdown",
   "metadata": {},
   "source": [
    "## How many seats change hands from one election to the next"
   ]
  },
  {
   "cell_type": "markdown",
   "metadata": {},
   "source": [
    "Now select the 2010- boundary set.\n",
    "\n",
    "Vote share and turnout can be reconstructed so drop them.\n",
    "And I don't care about seats as constituencies only have one seat in these elections.\n",
    "I care even less about the boundary set, they are all in the same set."
   ]
  },
  {
   "cell_type": "code",
   "execution_count": 5,
   "metadata": {},
   "outputs": [],
   "source": [
    "recent = df[df['boundary_set'] == '2010-2017']\n",
    "\n",
    "recent.drop(['seats','con_share','lib_share','lab_share','natSW_share',\n",
    "             'oth_share','boundary_set','turnout','Unnamed: 19'],axis = 1, inplace = True)\n",
    "\n",
    "recent.reset_index(drop = True, inplace = True)"
   ]
  },
  {
   "cell_type": "code",
   "execution_count": 6,
   "metadata": {},
   "outputs": [
    {
     "name": "stdout",
     "output_type": "stream",
     "text": [
      "constituency_id     object\n",
      "constituency        object\n",
      "country/region      object\n",
      "electorate          object\n",
      "con_votes          float64\n",
      "lib_votes           object\n",
      "lab_votes           object\n",
      "natSW_votes        float64\n",
      "oth_votes          float64\n",
      "total_votes         object\n",
      "election            object\n",
      "dtype: object\n"
     ]
    }
   ],
   "source": [
    "print(recent.dtypes)"
   ]
  },
  {
   "cell_type": "code",
   "execution_count": 7,
   "metadata": {},
   "outputs": [],
   "source": [
    "# Let's cast the number of votes & size of electorate to floats\n",
    "recent = recent.astype({'total_votes':'float',\n",
    "                        'electorate': 'float',\n",
    "                        'con_votes':'float',\n",
    "                        'lab_votes':'float',\n",
    "                        'lib_votes':'float',\n",
    "                        'natSW_votes':'float',\n",
    "                        'oth_votes':'float',})"
   ]
  },
  {
   "cell_type": "markdown",
   "metadata": {},
   "source": [
    "An obvious question is to consider how seats have changed over time.  What seats have gone to the same party three years running?"
   ]
  },
  {
   "cell_type": "code",
   "execution_count": 8,
   "metadata": {},
   "outputs": [],
   "source": [
    "# Find the number of votes in each row and work out winners\n",
    "recent['highest'] = recent.loc[:, 'con_votes':'oth_votes'].max(axis=1)\n",
    "recent['winner'] = 'X'\n",
    "for i in range(len(recent)):\n",
    "    if recent['highest'][i] == recent['con_votes'][i]:\n",
    "        recent['winner'][i] = 'C'\n",
    "    elif recent['highest'][i] == recent['lib_votes'][i]:\n",
    "        recent['winner'][i] = 'D'\n",
    "    elif recent['highest'][i] == recent['lab_votes'][i]:\n",
    "        recent['winner'][i] = 'L'\n",
    "    elif recent['highest'][i] == recent['natSW_votes'][i]:\n",
    "        recent['winner'][i] = 'N'\n",
    "    elif recent['highest'][i] == recent['oth_votes'][i]:\n",
    "        recent['winner'][i] = 'O'"
   ]
  },
  {
   "cell_type": "code",
   "execution_count": 9,
   "metadata": {},
   "outputs": [],
   "source": [
    "#We don't need the highest votes any more, we can always reconstruct from the winner\n",
    "recent.drop('highest',axis=1,inplace=True)"
   ]
  },
  {
   "cell_type": "markdown",
   "metadata": {},
   "source": [
    "Separate out the three sets of results"
   ]
  },
  {
   "cell_type": "code",
   "execution_count": 10,
   "metadata": {},
   "outputs": [],
   "source": [
    "results2010  = recent[recent['election']=='2010']\n",
    "results2015  = recent[recent['election']=='2015']\n",
    "results2017  = recent[recent['election']=='2017']\n",
    "results2010.rename(columns={'winner':'winner2010'},inplace=True)\n",
    "results2015.rename(columns={'winner':'winner2015'},inplace=True)\n",
    "results2017.rename(columns={'winner':'winner2017'},inplace=True)"
   ]
  },
  {
   "cell_type": "markdown",
   "metadata": {},
   "source": [
    "And now lets just look at the winners in each election.\n",
    "Obviously the margin of victory matters but not for our purposes."
   ]
  },
  {
   "cell_type": "code",
   "execution_count": 11,
   "metadata": {},
   "outputs": [],
   "source": [
    "constituencies = pd.Series(recent['constituency_id'].unique())\n",
    "wins2010=results2010[['constituency_id','winner2010']].sort_values(by='constituency_id')\n",
    "wins2015=results2015[['constituency_id','winner2015']].sort_values(by='constituency_id')\n",
    "wins2017=results2017[['constituency_id','winner2017']].sort_values(by='constituency_id')\n",
    "winner2010  = wins2010['winner2010'].reset_index(drop = True)\n",
    "winner2015  = wins2015['winner2015'].reset_index(drop = True)\n",
    "winner2017  = wins2017['winner2017'].reset_index(drop = True)"
   ]
  },
  {
   "cell_type": "markdown",
   "metadata": {},
   "source": [
    "### 2010-2017 results"
   ]
  },
  {
   "cell_type": "markdown",
   "metadata": {},
   "source": [
    "Now put the results of the winners in each election back together"
   ]
  },
  {
   "cell_type": "code",
   "execution_count": 12,
   "metadata": {},
   "outputs": [],
   "source": [
    "winners = pd.concat([constituencies, winner2010, winner2015, winner2017],axis=1)"
   ]
  },
  {
   "cell_type": "markdown",
   "metadata": {},
   "source": [
    "And count how many seats did **not** change hands"
   ]
  },
  {
   "cell_type": "code",
   "execution_count": 13,
   "metadata": {},
   "outputs": [],
   "source": [
    "safe_seats = 0\n",
    "sc = 0 #Safe seats for the Conservative and Unionist Party\n",
    "sd = 0 #Safe seats for the Liberal Democrats\n",
    "sl = 0 #Safe seats for the Labour Party\n",
    "sn = 0 #Safe seats for the Scottish National Party and Plaid Cymru\n",
    "so = 0 #Safe seats for the other parties (mostly in Northern Ireland)\n",
    "        # but see the metadata for more detailed information.\n",
    "for i in range(len(winners)):\n",
    "    if (winners['winner2010'][i] == winners['winner2015'][i]) and (winners['winner2015'][i] == winners['winner2017'][i]):\n",
    "        safe_seats += 1\n",
    "        if winners['winner2010'][i] == 'C':\n",
    "            sc += 1\n",
    "        elif winners['winner2010'][i] == 'D':\n",
    "            sd += 1\n",
    "        elif winners['winner2010'][i] == 'L':\n",
    "            sl += 1\n",
    "        elif winners['winner2010'][i] == 'N':\n",
    "            sn += 1\n",
    "        elif winners['winner2010'][i] == 'O':\n",
    "            so += 1"
   ]
  },
  {
   "cell_type": "code",
   "execution_count": 14,
   "metadata": {
    "scrolled": true
   },
   "outputs": [
    {
     "name": "stdout",
     "output_type": "stream",
     "text": [
      "Safe seats: 502\n",
      "Safe Conservative seats: 269 (54%).\n",
      "Safe Lib Dem seats: 4 (1%).\n",
      "Safe Labour seats: 203 (40%).\n",
      "Safe Nationalist seats: 6 (1%).\n",
      "'Safe' other seats: 20 (4%).\n"
     ]
    }
   ],
   "source": [
    "print('Safe seats:', safe_seats)\n",
    "print('Safe Conservative seats: ',sc,' (',round(sc/safe_seats*100),'%).',sep='')\n",
    "print('Safe Lib Dem seats: ',sd,' (',round(sd/safe_seats*100),'%).',sep='')\n",
    "print('Safe Labour seats: ',sl,' (',round(sl/safe_seats*100),'%).',sep='')\n",
    "print('Safe Nationalist seats: ',sn,' (',round(sn/safe_seats*100),'%).',sep='')\n",
    "print('\\'Safe\\' other seats: ',so,' (',round(so/safe_seats*100),'%).',sep='')"
   ]
  },
  {
   "cell_type": "code",
   "execution_count": 15,
   "metadata": {
    "scrolled": false
   },
   "outputs": [
    {
     "data": {
      "image/png": "[encoded data removed]",
      "text/plain": [
       "<Figure size 864x432 with 1 Axes>"
      ]
     },
     "metadata": {},
     "output_type": "display_data"
    }
   ],
   "source": [
    "mpl.style.use(['fivethirtyeight']) # A good political analysis style!\n",
    "\n",
    "safe = pd.DataFrame([sc, sd, sl, sn, so],\n",
    "                   index = ['Conservative','Liberal\\nDemocrat',\n",
    "                            'Labour','Scottish and\\nWelsh Nationalists',\n",
    "                            'Others'])\n",
    "ax=safe.plot(kind='bar', legend = None, figsize=(12,6))\n",
    "ax.set_title('\\'Safe\\' seats by party')\n",
    "ax.set_xlabel('Party')\n",
    "ax.set_yticks(range(0,safe[0].max(),20))\n",
    "ax = ax.set_ylabel('Number of seats')"
   ]
  },
  {
   "cell_type": "markdown",
   "metadata": {},
   "source": [
    "54% of the safe seats are Conservative and 40% are Labour.\n",
    "The low percentage of safe Lib Dem seats is a largely a result of the 2015 election.\n",
    "\n",
    "\n",
    "The 'other' seats could have switched e.g. from DUP to Alliance but as these parties are 'other' this counts as the seat being maintained.\n",
    "As a result the number of safe seats for the Others will be an overestimate.\n",
    "Perhaps NI should be excluded from the analysis although it is only 4% of safe seats.\n",
    "The Welsh and Scottish nationalist parties do not challenge each other so their 1% of safe seats is valid.\n",
    "\n",
    "The most surprising result is that, even incuding the Liberal Democrat lack of success in 2015, only 147 seats changed hands between 2010 and 2017!"
   ]
  },
  {
   "cell_type": "markdown",
   "metadata": {},
   "source": [
    "### Next steps\n",
    "\n",
    "When the next results are released I will do a comparison with the 2019 data.  The news widely reported a huge change in the make-up of seats in the North of England, is this as big a change as the Liberal Democrat vote collapse in 2015.\n",
    "\n",
    "After that maybe look at the largest parties regional performance since 1945 - for example there is a widespread belief that London has tended towards Labour over recent decades but that some rural areas have become more Conservative over the same period.  I suspect that the decline of the Liberal Party from 1945-1975 may complicate matters."
   ]
  },
  {
   "cell_type": "markdown",
   "metadata": {},
   "source": [
    "The claim is that the 2019 election was a huge change as the 'red wall' was breached.\n",
    "How can we see whether this is true or not?\n",
    "How many previously 'safe' seats changed from 2017 to 2019 and whose were they?"
   ]
  },
  {
   "cell_type": "code",
   "execution_count": 16,
   "metadata": {},
   "outputs": [],
   "source": [
    "# Load new data set & clean 2019 data.\n",
    "# Mark 'safe seats' in the 2017 data.\n",
    "# Record L<->C but also L<->O, C<->O\n",
    "# Different from previous 'teens elections?\n",
    "pass"
   ]
  },
  {
   "cell_type": "markdown",
   "metadata": {},
   "source": [
    "### Update\n",
    "The 2019 results are out :)\n",
    "https://commonslibrary.parliament.uk/research-briefings/cbp-8647/\n",
    "\n",
    "Direct set:\n",
    "http://researchbriefings.files.parliament.uk/documents/CBP-8647/1918-2019election_results-.csv"
   ]
  },
  {
   "cell_type": "code",
   "execution_count": 17,
   "metadata": {},
   "outputs": [],
   "source": [
    "url = 'http://researchbriefings.files.parliament.uk/documents/CBP-8647/1918-2019election_results-.csv'\n",
    "df = pd.read_csv(url, encoding='iso-8859-15')"
   ]
  },
  {
   "cell_type": "markdown",
   "metadata": {},
   "source": [
    "## Turnout"
   ]
  },
  {
   "cell_type": "code",
   "execution_count": 18,
   "metadata": {},
   "outputs": [
    {
     "data": {
      "text/plain": [
       "(17698, 19)"
      ]
     },
     "execution_count": 18,
     "metadata": {},
     "output_type": "execute_result"
    }
   ],
   "source": [
    "df.shape"
   ]
  },
  {
   "cell_type": "code",
   "execution_count": 19,
   "metadata": {},
   "outputs": [
    {
     "data": {
      "text/plain": [
       "Index(['constituency_id', 'seats', 'constituency', 'country/region',\n",
       "       'electorate', 'con_votes', 'con_share', 'lib_votes ', 'lib_share',\n",
       "       'lab_votes', 'lab_share', 'natSW_votes', 'natSW_share', 'oth_votes',\n",
       "       'oth_share', 'total_votes', 'turnout ', 'election', 'boundary_set'],\n",
       "      dtype='object')"
      ]
     },
     "execution_count": 19,
     "metadata": {},
     "output_type": "execute_result"
    }
   ],
   "source": [
    "df.columns"
   ]
  },
  {
   "cell_type": "code",
   "execution_count": 20,
   "metadata": {},
   "outputs": [
    {
     "data": {
      "text/plain": [
       "array(['1918-35', '1918-45', '1945', '1950', '1955-70', '1974-79',\n",
       "       '1983-92', '1997-05', '1997-01', '2005-19', '2010-19'],\n",
       "      dtype=object)"
      ]
     },
     "execution_count": 20,
     "metadata": {},
     "output_type": "execute_result"
    }
   ],
   "source": [
    "df.boundary_set.unique()"
   ]
  },
  {
   "cell_type": "code",
   "execution_count": null,
   "metadata": {},
   "outputs": [],
   "source": []
  }
 ],
 "metadata": {
  "hide_input": false,
  "kernelspec": {
   "display_name": "Python 3",
   "language": "python",
   "name": "python3"
  },
  "language_info": {
   "codemirror_mode": {
    "name": "ipython",
    "version": 3
   },
   "file_extension": ".py",
   "mimetype": "text/x-python",
   "name": "python",
   "nbconvert_exporter": "python",
   "pygments_lexer": "ipython3",
   "version": "3.8.6"
  },
  "latex_envs": {
   "LaTeX_envs_menu_present": true,
   "autoclose": false,
   "autocomplete": true,
   "bibliofile": "biblio.bib",
   "cite_by": "apalike",
   "current_citInitial": 1,
   "eqLabelWithNumbers": true,
   "eqNumInitial": 1,
   "hotkeys": {
    "equation": "Ctrl-E",
    "itemize": "Ctrl-I"
   },
   "labels_anchors": false,
   "latex_user_defs": false,
   "report_style_numbering": false,
   "user_envs_cfg": false
  },
  "toc": {
   "base_numbering": 1,
   "nav_menu": {},
   "number_sections": true,
   "sideBar": true,
   "skip_h1_title": false,
   "title_cell": "Table of Contents",
   "title_sidebar": "Contents",
   "toc_cell": true,
   "toc_position": {},
   "toc_section_display": true,
   "toc_window_display": true
  },
  "varInspector": {
   "cols": {
    "lenName": 16,
    "lenType": 16,
    "lenVar": 40
   },
   "kernels_config": {
    "python": {
     "delete_cmd_postfix": "",
     "delete_cmd_prefix": "del ",
     "library": "var_list.py",
     "varRefreshCmd": "print(var_dic_list())"
    },
    "r": {
     "delete_cmd_postfix": ") ",
     "delete_cmd_prefix": "rm(",
     "library": "var_list.r",
     "varRefreshCmd": "cat(var_dic_list()) "
    }
   },
   "types_to_exclude": [
    "module",
    "function",
    "builtin_function_or_method",
    "instance",
    "_Feature"
   ],
   "window_display": false
  }
 },
 "nbformat": 4,
 "nbformat_minor": 2
}
